{
 "cells": [
  {
   "cell_type": "code",
   "execution_count": 3,
   "metadata": {
    "collapsed": true
   },
   "outputs": [],
   "source": [
    "import json \n",
    "import csv\n",
    "\n",
    "from collections import OrderedDict"
   ]
  },
  {
   "cell_type": "markdown",
   "metadata": {},
   "source": [
    "# Importer nouvelles section dans json"
   ]
  },
  {
   "cell_type": "code",
   "execution_count": 3,
   "metadata": {
    "collapsed": false,
    "scrolled": false
   },
   "outputs": [
    {
     "ename": "NameError",
     "evalue": "name 'json' is not defined",
     "output_type": "error",
     "traceback": [
      "\u001b[0;31m---------------------------------------------------------------------------\u001b[0m",
      "\u001b[0;31mNameError\u001b[0m                                 Traceback (most recent call last)",
      "\u001b[0;32m<ipython-input-3-691775625581>\u001b[0m in \u001b[0;36m<module>\u001b[0;34m()\u001b[0m\n\u001b[1;32m      1\u001b[0m \u001b[0;32mwith\u001b[0m \u001b[0mopen\u001b[0m\u001b[0;34m(\u001b[0m\u001b[0;34m'fr.i18n.json'\u001b[0m\u001b[0;34m)\u001b[0m \u001b[0;32mas\u001b[0m \u001b[0mjson_file\u001b[0m\u001b[0;34m:\u001b[0m\u001b[0;34m\u001b[0m\u001b[0m\n\u001b[0;32m----> 2\u001b[0;31m     \u001b[0md_from\u001b[0m \u001b[0;34m=\u001b[0m \u001b[0mjson\u001b[0m\u001b[0;34m.\u001b[0m\u001b[0mload\u001b[0m\u001b[0;34m(\u001b[0m\u001b[0mjson_file\u001b[0m\u001b[0;34m,\u001b[0m \u001b[0mobject_pairs_hook\u001b[0m\u001b[0;34m=\u001b[0m\u001b[0mOrderedDict\u001b[0m\u001b[0;34m)\u001b[0m\u001b[0;34m\u001b[0m\u001b[0m\n\u001b[0m\u001b[1;32m      3\u001b[0m \u001b[0;34m\u001b[0m\u001b[0m\n\u001b[1;32m      4\u001b[0m \u001b[0;32mwith\u001b[0m \u001b[0mopen\u001b[0m\u001b[0;34m(\u001b[0m\u001b[0;34m'es.i18n.json'\u001b[0m\u001b[0;34m)\u001b[0m \u001b[0;32mas\u001b[0m \u001b[0mjson_file\u001b[0m\u001b[0;34m:\u001b[0m\u001b[0;34m\u001b[0m\u001b[0m\n\u001b[1;32m      5\u001b[0m     \u001b[0md_to\u001b[0m \u001b[0;34m=\u001b[0m \u001b[0mjson\u001b[0m\u001b[0;34m.\u001b[0m\u001b[0mload\u001b[0m\u001b[0;34m(\u001b[0m\u001b[0mjson_file\u001b[0m\u001b[0;34m,\u001b[0m \u001b[0mobject_pairs_hook\u001b[0m\u001b[0;34m=\u001b[0m\u001b[0mOrderedDict\u001b[0m\u001b[0;34m)\u001b[0m\u001b[0;34m\u001b[0m\u001b[0m\n",
      "\u001b[0;31mNameError\u001b[0m: name 'json' is not defined"
     ]
    }
   ],
   "source": [
    "with open('fr.i18n.json') as json_file:\n",
    "    d_from = json.load(json_file, object_pairs_hook=OrderedDict)\n",
    "    \n",
    "with open('es.i18n.json') as json_file:\n",
    "    d_to = json.load(json_file, object_pairs_hook=OrderedDict)\n",
    "    \n",
    "for key in sorted(d_fr.keys()):\n",
    "    if key not in d_to:\n",
    "        d_to[key]=d_from[key]\n",
    "        print(key,\"created in dict\")\n",
    "    if isinstance(d_from[key],dict):\n",
    "        for key2 in sorted(d_from[key]):\n",
    "            print(key2)\n",
    "            if key2 not in d_to[key]:\n",
    "                d_to[key][key2]=d_from[key][key2]\n",
    "                print(key2,\"created in dict, section\",key)\n",
    "\n",
    "with open('es.i18n.json', 'w',encoding='utf8') as outfile:\n",
    "    json.dump(d_to, outfile, indent=2, ensure_ascii=False)"
   ]
  },
  {
   "cell_type": "markdown",
   "metadata": {},
   "source": [
    "# Convertir json en csv pour travail de traduction"
   ]
  },
  {
   "cell_type": "code",
   "execution_count": 16,
   "metadata": {
    "collapsed": false
   },
   "outputs": [
    {
     "name": "stdout",
     "output_type": "stream",
     "text": [
      "95 95\n",
      "536\n"
     ]
    },
    {
     "data": {
      "text/plain": [
       "'f= csv.writer(open(outpath,\"w\"))\\n\\n# CSV Header\\nf.writerow ([\\'_file\\',\\'\\',path1,path2])\\n\\n# CSV content\\nfor key in sorted(d1.keys()):\\n    print(key)\\n    if isinstance(d1[key],dict):\\n        for key2 in d1[key]:           \\n            f.writerow([key,key2,d1[key][key2],d2[key][key2]])\\n    else:\\n        f.writerow([key,\\'\\',d1[key],d2[key]])\\n'"
      ]
     },
     "execution_count": 16,
     "metadata": {},
     "output_type": "execute_result"
    }
   ],
   "source": [
    "path1='fr.i18n.json'\n",
    "path2='en.i18n.json'\n",
    "\n",
    "outpath='test.csv'\n",
    "\n",
    "with open(path1) as json_file:\n",
    "    d1 = json.load(json_file)   \n",
    "with open(path2) as json_file:\n",
    "    d2 = json.load(json_file)\n",
    "    \n",
    "print(len(d1),len(d2))\n",
    "f= csv.writer(open(outpath,\"w\"))\n",
    "\n",
    "# CSV Header\n",
    "f.writerow (['_file','',path1,path2])\n",
    "\n",
    "# CSV content\n",
    "for key in sorted(d1.keys()):\n",
    "    print(key)\n",
    "    if isinstance(d1[key],dict):\n",
    "        for key2 in d1[key]:           \n",
    "            f.writerow([key,key2,d1[key][key2],d2[key][key2]])\n",
    "    else:\n",
    "        f.writerow([key,'',d1[key],d2[key]])\n",
    "       "
   ]
  },
  {
   "cell_type": "markdown",
   "metadata": {
    "collapsed": true
   },
   "source": [
    "# Convertir csv en json pour développement\n"
   ]
  },
  {
   "cell_type": "code",
   "execution_count": 17,
   "metadata": {
    "collapsed": false
   },
   "outputs": [
    {
     "name": "stdout",
     "output_type": "stream",
     "text": [
      "['_file', '', 'fr.i18n.json', 'en.i18n.json']\n",
      "['_locale', '', 'fr-FR', 'en-US']\n",
      "['_template', '', 'users', 'users']\n",
      "['_template', '', 'forum', 'forum']\n",
      "95\n",
      "539\n"
     ]
    }
   ],
   "source": [
    "outpath1='test_fr.json'\n",
    "outpath2='test_en.json'\n",
    "\n",
    "path='trad_complete.csv'\n",
    "\n",
    "outpath=[]\n",
    "d_out={}\n",
    "\n",
    "with open(path) as csv_file:\n",
    "    d_csv = csv.reader(csv_file)   \n",
    "\n",
    "    for row in d_csv:\n",
    "        if row[0]=='_file':\n",
    "            for item in row[2:]:\n",
    "                outpath.append(str(item))\n",
    "    \n",
    "n=len(outpath)\n",
    "#Create 1 dict for each language\n",
    "d_out=[]\n",
    "for i in range(n):\n",
    "    d_out.append({})\n",
    "        \n",
    "with open(path) as csv_file:\n",
    "    d_csv = csv.reader(csv_file)   \n",
    "\n",
    "    #Create 1st level in each dict\n",
    "    for row in d_csv:\n",
    "        if row[1]=='':\n",
    "            print(row)\n",
    "            for i in range(n):\n",
    "                d_out[i][str(row[0])]=str(row[2+i])\n",
    "        else:\n",
    "            if row[0] not in d_out[0]:\n",
    "                for i in range(n):\n",
    "                    d_out[i][str(row[0])]={}\n",
    "            for i in range(n):\n",
    "                d_out[i][str(row[0])][str(row[1])]=str(row[2+i])\n",
    "                \n",
    "#Write json file\n",
    "with open(outpath2,'w') as outjson:\n",
    "    json.dump(d_out[1],outjson,indent=2,sort_keys=True,ensure_ascii=False)\n",
    "    \n",
    "#Test length\n",
    "with open(outpath2,'r') as json_file:\n",
    "    d2 = json.load(json_file)\n",
    "    print(len(d2))\n",
    "    l_l=[]\n",
    "    for key in d2:\n",
    "        l_l.append(len(d2[key]))\n",
    "    print(sum(l_l))"
   ]
  },
  {
   "cell_type": "code",
   "execution_count": 18,
   "metadata": {
    "collapsed": false
   },
   "outputs": [
    {
     "name": "stdout",
     "output_type": "stream",
     "text": [
      "_templates\n",
      "template\n"
     ]
    }
   ],
   "source": [
    "for item in d1:\n",
    "    if item not in d_out[0]:\n",
    "        print(item)"
   ]
  },
  {
   "cell_type": "code",
   "execution_count": null,
   "metadata": {
    "collapsed": true
   },
   "outputs": [],
   "source": []
  }
 ],
 "metadata": {
  "kernelspec": {
   "display_name": "Python 3",
   "language": "python",
   "name": "python3"
  },
  "language_info": {
   "codemirror_mode": {
    "name": "ipython",
    "version": 3
   },
   "file_extension": ".py",
   "mimetype": "text/x-python",
   "name": "python",
   "nbconvert_exporter": "python",
   "pygments_lexer": "ipython3",
   "version": "3.5.3"
  }
 },
 "nbformat": 4,
 "nbformat_minor": 2
}
