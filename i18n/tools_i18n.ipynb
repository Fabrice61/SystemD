{
 "cells": [
  {
   "cell_type": "code",
   "execution_count": 12,
   "metadata": {
    "collapsed": true
   },
   "outputs": [],
   "source": [
    "import json \n",
    "import csv\n",
    "import os\n",
    "import sys\n",
    "\n",
    "from collections import OrderedDict"
   ]
  },
  {
   "cell_type": "markdown",
   "metadata": {},
   "source": [
    "# Stats"
   ]
  },
  {
   "cell_type": "code",
   "execution_count": 42,
   "metadata": {
    "collapsed": false
   },
   "outputs": [
    {
     "name": "stdout",
     "output_type": "stream",
     "text": [
      "This json counts  537 entries\n"
     ]
    }
   ],
   "source": [
    "with open('fr.i18n.json') as json_file:\n",
    "    d_from = json.load(json_file, object_pairs_hook=OrderedDict)\n",
    "    \n",
    "count=0\n",
    "for key in d_from.keys():\n",
    "    if isinstance(d_from[key],dict):\n",
    "        for key2 in d_from[key]:\n",
    "            count+=1\n",
    "    else:\n",
    "        count+=1\n",
    "\n",
    "print(\"This json counts\", count, \"entries\")"
   ]
  },
  {
   "cell_type": "markdown",
   "metadata": {},
   "source": [
    "# Create new language dict"
   ]
  },
  {
   "cell_type": "code",
   "execution_count": 38,
   "metadata": {
    "collapsed": false,
    "scrolled": false
   },
   "outputs": [
    {
     "name": "stdout",
     "output_type": "stream",
     "text": [
      "Path to the output json file:de.i18n.json\n",
      "Please enter the language code (as en-US, fr-FR...): de-DE\n",
      "Execution complete\n"
     ]
    }
   ],
   "source": [
    "# Variables declarations\n",
    "out_path=''\n",
    "while out_path=='':\n",
    "    out_path=input(\"Path to the output json file:\")\n",
    "\n",
    "#================================\n",
    "with open('fr.i18n.json') as json_file:\n",
    "    d_fr = json.load(json_file, object_pairs_hook=OrderedDict)\n",
    "    \n",
    "if os.path.isfile(out_path):\n",
    "    rep=input(out_path+' already exists, do you want to continue ? (y/n)')\n",
    "    if rep !='y' and rep != 'Y':\n",
    "        sys.exit(\"Error\")\n",
    "    with open(out_path) as json_file:\n",
    "        d_to = json.load(json_file, object_pairs_hook=OrderedDict)\n",
    "else:\n",
    "    d_to=OrderedDict()\n",
    "    \n",
    "for key in d_fr.keys():\n",
    "    if key not in d_to:\n",
    "        if key.startswith('_'):\n",
    "            if key=='_locale':\n",
    "                d_to[key]=input('Please enter the language code (as en-US, fr-FR...): ')\n",
    "            d_to[key]=d_fr[key]\n",
    "        elif isinstance(d_fr[key],dict):\n",
    "            d_to[key]={}\n",
    "        else:\n",
    "            d_to[key]=''\n",
    "        #print('Created ',key)\n",
    "    if isinstance(d_fr[key],dict):\n",
    "        for key2 in sorted(d_fr[key]):\n",
    "            #print(key2)\n",
    "            if key2 not in d_to[key]:\n",
    "                d_to[key][key2]=''\n",
    "                #print(key2,\"created in dict, section\",key)\n",
    "\n",
    "# Write in file\n",
    "with open(out_path, 'w',encoding='utf8') as outfile:\n",
    "    json.dump(d_to, outfile, indent=2, ensure_ascii=False)\n",
    "print(\"Execution complete\")"
   ]
  },
  {
   "cell_type": "markdown",
   "metadata": {},
   "source": [
    "# Convertir json en csv pour travail de traduction"
   ]
  },
  {
   "cell_type": "code",
   "execution_count": 16,
   "metadata": {
    "collapsed": false
   },
   "outputs": [
    {
     "name": "stdout",
     "output_type": "stream",
     "text": [
      "Path to the language json file:ge.i18n.json\n",
      "Path to the output csv file:fr_ge.csv\n"
     ]
    }
   ],
   "source": [
    "# Variables declarations\n",
    "out_path=''\n",
    "json_path=''\n",
    "while not os.path.isfile(json_path):\n",
    "    json_path=input(\"Path to the language json file:\")\n",
    "while out_path=='':\n",
    "    out_path=input(\"Path to the output csv file:\")\n",
    "\n",
    "# Open json files for reading \n",
    "with open('fr.i18n.json') as json_file:\n",
    "    d1 = json.load(json_file, object_pairs_hook=OrderedDict)   \n",
    "with open(json_path) as json_file:\n",
    "    d2 = json.load(json_file, object_pairs_hook=OrderedDict)\n",
    "assert(len(d1)==len(d2))\n",
    "\n",
    "# Open csv file for writing\n",
    "if os.path.isfile(out_path):\n",
    "    rep=input(out_path+' already exists, do you want to continue ? (y/n)')\n",
    "    if rep !='y' and rep != 'Y':\n",
    "        sys.exit(\"Error\")    \n",
    "f= csv.writer(open(out_path,\"w\"))\n",
    "\n",
    "# CSV Header \n",
    "f.writerow (['_file','','fr.i18n.json',json_path])\n",
    "\n",
    "# CSV Content\n",
    "for key in d1.keys():\n",
    "    #print(key)\n",
    "    if key.startswith('_templates'):\n",
    "        f.writerow([key,'','',''])\n",
    "    elif isinstance(d1[key],dict):\n",
    "        for key2 in d1[key]:           \n",
    "            f.writerow([key,key2,d1[key][key2],d2[key][key2]])\n",
    "    else:\n",
    "        f.writerow([key,'',d1[key],d2[key]])\n",
    "       "
   ]
  },
  {
   "cell_type": "markdown",
   "metadata": {
    "collapsed": true
   },
   "source": [
    "# Convertir csv en json pour développement\n"
   ]
  },
  {
   "cell_type": "code",
   "execution_count": 17,
   "metadata": {
    "collapsed": false
   },
   "outputs": [
    {
     "name": "stdout",
     "output_type": "stream",
     "text": [
      "['_file', '', 'fr.i18n.json', 'en.i18n.json']\n",
      "['_locale', '', 'fr-FR', 'en-US']\n",
      "['_template', '', 'users', 'users']\n",
      "['_template', '', 'forum', 'forum']\n",
      "95\n",
      "539\n"
     ]
    }
   ],
   "source": [
    "#TODO revoir ça + remise en forme en.i18n.json\n",
    "\n",
    "outpath1='test_fr.json'\n",
    "outpath2='test_en.json'\n",
    "\n",
    "path='trad_complete.csv'\n",
    "\n",
    "outpath=[]\n",
    "d_out={}\n",
    "\n",
    "with open(path) as csv_file:\n",
    "    d_csv = csv.reader(csv_file)   \n",
    "\n",
    "    for row in d_csv:\n",
    "        if row[0]=='_file':\n",
    "            for item in row[2:]:\n",
    "                outpath.append(str(item))\n",
    "    \n",
    "n=len(outpath)\n",
    "#Create 1 dict for each language\n",
    "d_out=[]\n",
    "for i in range(n):\n",
    "    d_out.append({})\n",
    "        \n",
    "with open(path) as csv_file:\n",
    "    d_csv = csv.reader(csv_file)   \n",
    "\n",
    "    #Create 1st level in each dict\n",
    "    for row in d_csv:\n",
    "        if row[1]=='':\n",
    "            print(row)\n",
    "            for i in range(n):\n",
    "                d_out[i][str(row[0])]=str(row[2+i])\n",
    "        else:\n",
    "            if row[0] not in d_out[0]:\n",
    "                for i in range(n):\n",
    "                    d_out[i][str(row[0])]={}\n",
    "            for i in range(n):\n",
    "                d_out[i][str(row[0])][str(row[1])]=str(row[2+i])\n",
    "                \n",
    "#Write json file\n",
    "with open(outpath2,'w') as outjson:\n",
    "    json.dump(d_out[1],outjson,indent=2,sort_keys=True,ensure_ascii=False)\n",
    "    \n",
    "#Test length\n",
    "with open(outpath2,'r') as json_file:\n",
    "    d2 = json.load(json_file)\n",
    "    print(len(d2))\n",
    "    l_l=[]\n",
    "    for key in d2:\n",
    "        l_l.append(len(d2[key]))\n",
    "    print(sum(l_l))"
   ]
  },
  {
   "cell_type": "markdown",
   "metadata": {},
   "source": [
    "# TODO"
   ]
  },
  {
   "cell_type": "code",
   "execution_count": 31,
   "metadata": {
    "collapsed": true
   },
   "outputs": [],
   "source": [
    "#TODO tester automatiquement la longueur de tous les json et sortir les entrées manquantes"
   ]
  },
  {
   "cell_type": "code",
   "execution_count": 32,
   "metadata": {
    "collapsed": true
   },
   "outputs": [],
   "source": [
    "#TODO revoir CSV2JSON "
   ]
  }
 ],
 "metadata": {
  "kernelspec": {
   "display_name": "Python 3",
   "language": "python",
   "name": "python3"
  },
  "language_info": {
   "codemirror_mode": {
    "name": "ipython",
    "version": 3
   },
   "file_extension": ".py",
   "mimetype": "text/x-python",
   "name": "python",
   "nbconvert_exporter": "python",
   "pygments_lexer": "ipython3",
   "version": "3.5.3"
  }
 },
 "nbformat": 4,
 "nbformat_minor": 2
}
